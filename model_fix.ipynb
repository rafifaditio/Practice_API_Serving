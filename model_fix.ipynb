{
 "cells": [
  {
   "cell_type": "code",
   "execution_count": 1,
   "metadata": {},
   "outputs": [],
   "source": [
    "import pandas as pd\n",
    "import numpy as np\n",
    "import matplotlib.pyplot as plt\n",
    "import seaborn as sns\n",
    "\n",
    "from sklearn.model_selection import train_test_split\n",
    "# !pip install feature-engine\n",
    "from feature_engine.outliers import Winsorizer\n",
    "from sklearn.impute import SimpleImputer\n",
    "from sklearn.preprocessing import StandardScaler, MinMaxScaler, OneHotEncoder, OrdinalEncoder\n",
    "from sklearn.pipeline import Pipeline\n",
    "from imblearn.over_sampling import SMOTENC\n",
    "from imblearn.pipeline import Pipeline as imbpipe\n",
    "from sklearn.compose import ColumnTransformer\n",
    "from sklearn.linear_model import LogisticRegression\n",
    "from sklearn.svm import SVC\n",
    "from sklearn.tree import DecisionTreeClassifier\n",
    "from sklearn.ensemble import RandomForestClassifier\n",
    "from sklearn.model_selection import GridSearchCV\n",
    "from sklearn.metrics import classification_report\n",
    "import pickle\n",
    "import json\n",
    "\n",
    "# !pip install shap==0.44.0\n",
    "import shap\n",
    "\n",
    "import warnings\n",
    "warnings.filterwarnings(action=\"ignore\")"
   ]
  },
  {
   "cell_type": "code",
   "execution_count": 2,
   "metadata": {},
   "outputs": [
    {
     "data": {
      "text/html": [
       "<div>\n",
       "<style scoped>\n",
       "    .dataframe tbody tr th:only-of-type {\n",
       "        vertical-align: middle;\n",
       "    }\n",
       "\n",
       "    .dataframe tbody tr th {\n",
       "        vertical-align: top;\n",
       "    }\n",
       "\n",
       "    .dataframe thead th {\n",
       "        text-align: right;\n",
       "    }\n",
       "</style>\n",
       "<table border=\"1\" class=\"dataframe\">\n",
       "  <thead>\n",
       "    <tr style=\"text-align: right;\">\n",
       "      <th></th>\n",
       "      <th>person_age</th>\n",
       "      <th>person_income</th>\n",
       "      <th>person_home_ownership</th>\n",
       "      <th>person_emp_length</th>\n",
       "      <th>loan_intent</th>\n",
       "      <th>loan_grade</th>\n",
       "      <th>loan_amnt</th>\n",
       "      <th>loan_int_rate</th>\n",
       "      <th>loan_status</th>\n",
       "      <th>loan_percent_income</th>\n",
       "      <th>cb_person_default_on_file</th>\n",
       "      <th>cb_person_cred_hist_length</th>\n",
       "    </tr>\n",
       "  </thead>\n",
       "  <tbody>\n",
       "    <tr>\n",
       "      <th>0</th>\n",
       "      <td>22</td>\n",
       "      <td>59000</td>\n",
       "      <td>RENT</td>\n",
       "      <td>123.0</td>\n",
       "      <td>PERSONAL</td>\n",
       "      <td>D</td>\n",
       "      <td>35000</td>\n",
       "      <td>16.02</td>\n",
       "      <td>1</td>\n",
       "      <td>0.59</td>\n",
       "      <td>Y</td>\n",
       "      <td>3</td>\n",
       "    </tr>\n",
       "    <tr>\n",
       "      <th>1</th>\n",
       "      <td>21</td>\n",
       "      <td>9600</td>\n",
       "      <td>OWN</td>\n",
       "      <td>5.0</td>\n",
       "      <td>EDUCATION</td>\n",
       "      <td>B</td>\n",
       "      <td>1000</td>\n",
       "      <td>11.14</td>\n",
       "      <td>0</td>\n",
       "      <td>0.10</td>\n",
       "      <td>N</td>\n",
       "      <td>2</td>\n",
       "    </tr>\n",
       "    <tr>\n",
       "      <th>2</th>\n",
       "      <td>25</td>\n",
       "      <td>9600</td>\n",
       "      <td>MORTGAGE</td>\n",
       "      <td>1.0</td>\n",
       "      <td>MEDICAL</td>\n",
       "      <td>C</td>\n",
       "      <td>5500</td>\n",
       "      <td>12.87</td>\n",
       "      <td>1</td>\n",
       "      <td>0.57</td>\n",
       "      <td>N</td>\n",
       "      <td>3</td>\n",
       "    </tr>\n",
       "    <tr>\n",
       "      <th>3</th>\n",
       "      <td>23</td>\n",
       "      <td>65500</td>\n",
       "      <td>RENT</td>\n",
       "      <td>4.0</td>\n",
       "      <td>MEDICAL</td>\n",
       "      <td>C</td>\n",
       "      <td>35000</td>\n",
       "      <td>15.23</td>\n",
       "      <td>1</td>\n",
       "      <td>0.53</td>\n",
       "      <td>N</td>\n",
       "      <td>2</td>\n",
       "    </tr>\n",
       "    <tr>\n",
       "      <th>4</th>\n",
       "      <td>24</td>\n",
       "      <td>54400</td>\n",
       "      <td>RENT</td>\n",
       "      <td>8.0</td>\n",
       "      <td>MEDICAL</td>\n",
       "      <td>C</td>\n",
       "      <td>35000</td>\n",
       "      <td>14.27</td>\n",
       "      <td>1</td>\n",
       "      <td>0.55</td>\n",
       "      <td>Y</td>\n",
       "      <td>4</td>\n",
       "    </tr>\n",
       "  </tbody>\n",
       "</table>\n",
       "</div>"
      ],
      "text/plain": [
       "   person_age  person_income person_home_ownership  person_emp_length  \\\n",
       "0          22          59000                  RENT              123.0   \n",
       "1          21           9600                   OWN                5.0   \n",
       "2          25           9600              MORTGAGE                1.0   \n",
       "3          23          65500                  RENT                4.0   \n",
       "4          24          54400                  RENT                8.0   \n",
       "\n",
       "  loan_intent loan_grade  loan_amnt  loan_int_rate  loan_status  \\\n",
       "0    PERSONAL          D      35000          16.02            1   \n",
       "1   EDUCATION          B       1000          11.14            0   \n",
       "2     MEDICAL          C       5500          12.87            1   \n",
       "3     MEDICAL          C      35000          15.23            1   \n",
       "4     MEDICAL          C      35000          14.27            1   \n",
       "\n",
       "   loan_percent_income cb_person_default_on_file  cb_person_cred_hist_length  \n",
       "0                 0.59                         Y                           3  \n",
       "1                 0.10                         N                           2  \n",
       "2                 0.57                         N                           3  \n",
       "3                 0.53                         N                           2  \n",
       "4                 0.55                         Y                           4  "
      ]
     },
     "execution_count": 2,
     "metadata": {},
     "output_type": "execute_result"
    }
   ],
   "source": [
    "df = pd.read_csv(r\"https://raw.githubusercontent.com/rafifaditio/Data/main/credit_risk_dataset.csv\")\n",
    "df.head()"
   ]
  },
  {
   "cell_type": "markdown",
   "metadata": {},
   "source": [
    "# **Cleaning**"
   ]
  },
  {
   "cell_type": "code",
   "execution_count": 3,
   "metadata": {},
   "outputs": [],
   "source": [
    "# rename columns\n",
    "df.rename(columns={\"person_age\":\"age\", \"person_income\": \"income\",\n",
    "                   \"person_home_ownership\":\"home_ownership\",\n",
    "                   \"loan_status\":\"loan_default\",\n",
    "                   \"cb_person_default_on_file\":\"hist_default\",\n",
    "                   \"cb_person_cred_hist_length\":\"cred_hist_length\"},\n",
    "          inplace=True)\n",
    "\n",
    "# drop duplicates\n",
    "df.drop_duplicates(inplace=True)"
   ]
  },
  {
   "cell_type": "code",
   "execution_count": 4,
   "metadata": {},
   "outputs": [
    {
     "name": "stdout",
     "output_type": "stream",
     "text": [
      "(22691, 11)\n",
      "(9725, 11)\n",
      "(22691,)\n",
      "(9725,)\n"
     ]
    }
   ],
   "source": [
    "# split\n",
    "X = df.drop(\"loan_default\", axis=1)\n",
    "y = df.loan_default\n",
    "\n",
    "X_train, X_test, y_train, y_test = train_test_split(X, y, test_size=0.3, stratify=y, random_state=0)\n",
    "\n",
    "for i in [X_train, X_test, y_train, y_test]:\n",
    "    print(i.shape)"
   ]
  },
  {
   "cell_type": "markdown",
   "metadata": {},
   "source": [
    "# **Preprocess - Pipeline**"
   ]
  },
  {
   "cell_type": "code",
   "execution_count": 5,
   "metadata": {},
   "outputs": [],
   "source": [
    "num_pipe = Pipeline([(\"imputer\", SimpleImputer(strategy=\"median\")),\n",
    "                     (\"scaler\", StandardScaler())])\n",
    "\n",
    "ord_pipe = Pipeline([(\"ord_enc\", OrdinalEncoder(categories=[[\"OTHER\", \"RENT\", \"OWN\", \"MORTGAGE\"],\n",
    "                                 [\"A\", \"B\", \"C\", \"D\", \"E\", \"F\", \"G\"]]))])\n",
    "\n",
    "ohe_pipe = Pipeline ([(\"ohe_enc\", OneHotEncoder(sparse=False))])\n",
    "\n",
    "full_prep = ColumnTransformer([(\"num\", num_pipe, [\"loan_percent_income\", \"income\", \"loan_int_rate\"]),\n",
    "                               (\"ord\", ord_pipe, [\"home_ownership\", \"loan_grade\"])])\n",
    "\n",
    "full_pipe = Pipeline([(\"prep\", full_prep),\n",
    "                      (\"model\", RandomForestClassifier(random_state=0))])\n",
    "\n",
    "full_imbhandling = imbpipe([\n",
    "            (\"preprocess\", full_prep),\n",
    "            (\"over_sampl\", SMOTENC([3, 4], sampling_strategy=0.9, random_state=0)),\n",
    "            (\"model\", RandomForestClassifier(random_state=0))\n",
    "])"
   ]
  },
  {
   "cell_type": "code",
   "execution_count": 6,
   "metadata": {},
   "outputs": [
    {
     "data": {
      "text/html": [
       "<style>#sk-container-id-1 {color: black;}#sk-container-id-1 pre{padding: 0;}#sk-container-id-1 div.sk-toggleable {background-color: white;}#sk-container-id-1 label.sk-toggleable__label {cursor: pointer;display: block;width: 100%;margin-bottom: 0;padding: 0.3em;box-sizing: border-box;text-align: center;}#sk-container-id-1 label.sk-toggleable__label-arrow:before {content: \"▸\";float: left;margin-right: 0.25em;color: #696969;}#sk-container-id-1 label.sk-toggleable__label-arrow:hover:before {color: black;}#sk-container-id-1 div.sk-estimator:hover label.sk-toggleable__label-arrow:before {color: black;}#sk-container-id-1 div.sk-toggleable__content {max-height: 0;max-width: 0;overflow: hidden;text-align: left;background-color: #f0f8ff;}#sk-container-id-1 div.sk-toggleable__content pre {margin: 0.2em;color: black;border-radius: 0.25em;background-color: #f0f8ff;}#sk-container-id-1 input.sk-toggleable__control:checked~div.sk-toggleable__content {max-height: 200px;max-width: 100%;overflow: auto;}#sk-container-id-1 input.sk-toggleable__control:checked~label.sk-toggleable__label-arrow:before {content: \"▾\";}#sk-container-id-1 div.sk-estimator input.sk-toggleable__control:checked~label.sk-toggleable__label {background-color: #d4ebff;}#sk-container-id-1 div.sk-label input.sk-toggleable__control:checked~label.sk-toggleable__label {background-color: #d4ebff;}#sk-container-id-1 input.sk-hidden--visually {border: 0;clip: rect(1px 1px 1px 1px);clip: rect(1px, 1px, 1px, 1px);height: 1px;margin: -1px;overflow: hidden;padding: 0;position: absolute;width: 1px;}#sk-container-id-1 div.sk-estimator {font-family: monospace;background-color: #f0f8ff;border: 1px dotted black;border-radius: 0.25em;box-sizing: border-box;margin-bottom: 0.5em;}#sk-container-id-1 div.sk-estimator:hover {background-color: #d4ebff;}#sk-container-id-1 div.sk-parallel-item::after {content: \"\";width: 100%;border-bottom: 1px solid gray;flex-grow: 1;}#sk-container-id-1 div.sk-label:hover label.sk-toggleable__label {background-color: #d4ebff;}#sk-container-id-1 div.sk-serial::before {content: \"\";position: absolute;border-left: 1px solid gray;box-sizing: border-box;top: 0;bottom: 0;left: 50%;z-index: 0;}#sk-container-id-1 div.sk-serial {display: flex;flex-direction: column;align-items: center;background-color: white;padding-right: 0.2em;padding-left: 0.2em;position: relative;}#sk-container-id-1 div.sk-item {position: relative;z-index: 1;}#sk-container-id-1 div.sk-parallel {display: flex;align-items: stretch;justify-content: center;background-color: white;position: relative;}#sk-container-id-1 div.sk-item::before, #sk-container-id-1 div.sk-parallel-item::before {content: \"\";position: absolute;border-left: 1px solid gray;box-sizing: border-box;top: 0;bottom: 0;left: 50%;z-index: -1;}#sk-container-id-1 div.sk-parallel-item {display: flex;flex-direction: column;z-index: 1;position: relative;background-color: white;}#sk-container-id-1 div.sk-parallel-item:first-child::after {align-self: flex-end;width: 50%;}#sk-container-id-1 div.sk-parallel-item:last-child::after {align-self: flex-start;width: 50%;}#sk-container-id-1 div.sk-parallel-item:only-child::after {width: 0;}#sk-container-id-1 div.sk-dashed-wrapped {border: 1px dashed gray;margin: 0 0.4em 0.5em 0.4em;box-sizing: border-box;padding-bottom: 0.4em;background-color: white;}#sk-container-id-1 div.sk-label label {font-family: monospace;font-weight: bold;display: inline-block;line-height: 1.2em;}#sk-container-id-1 div.sk-label-container {text-align: center;}#sk-container-id-1 div.sk-container {/* jupyter's `normalize.less` sets `[hidden] { display: none; }` but bootstrap.min.css set `[hidden] { display: none !important; }` so we also need the `!important` here to be able to override the default hidden behavior on the sphinx rendered scikit-learn.org. See: https://github.com/scikit-learn/scikit-learn/issues/21755 */display: inline-block !important;position: relative;}#sk-container-id-1 div.sk-text-repr-fallback {display: none;}</style><div id=\"sk-container-id-1\" class=\"sk-top-container\"><div class=\"sk-text-repr-fallback\"><pre>Pipeline(steps=[(&#x27;preprocess&#x27;,\n",
       "                 ColumnTransformer(transformers=[(&#x27;num&#x27;,\n",
       "                                                  Pipeline(steps=[(&#x27;imputer&#x27;,\n",
       "                                                                   SimpleImputer(strategy=&#x27;median&#x27;)),\n",
       "                                                                  (&#x27;scaler&#x27;,\n",
       "                                                                   StandardScaler())]),\n",
       "                                                  [&#x27;loan_percent_income&#x27;,\n",
       "                                                   &#x27;income&#x27;, &#x27;loan_int_rate&#x27;]),\n",
       "                                                 (&#x27;ord&#x27;,\n",
       "                                                  Pipeline(steps=[(&#x27;ord_enc&#x27;,\n",
       "                                                                   OrdinalEncoder(categories=[[&#x27;OTHER&#x27;,\n",
       "                                                                                               &#x27;RENT&#x27;,\n",
       "                                                                                               &#x27;OWN&#x27;,\n",
       "                                                                                               &#x27;MORTGAGE&#x27;],\n",
       "                                                                                              [&#x27;A&#x27;,\n",
       "                                                                                               &#x27;B&#x27;,\n",
       "                                                                                               &#x27;C&#x27;,\n",
       "                                                                                               &#x27;D&#x27;,\n",
       "                                                                                               &#x27;E&#x27;,\n",
       "                                                                                               &#x27;F&#x27;,\n",
       "                                                                                               &#x27;G&#x27;]]))]),\n",
       "                                                  [&#x27;home_ownership&#x27;,\n",
       "                                                   &#x27;loan_grade&#x27;])])),\n",
       "                (&#x27;over_sampl&#x27;,\n",
       "                 SMOTENC(categorical_features=[3, 4], random_state=0,\n",
       "                         sampling_strategy=0.9)),\n",
       "                (&#x27;model&#x27;, RandomForestClassifier(random_state=0))])</pre><b>In a Jupyter environment, please rerun this cell to show the HTML representation or trust the notebook. <br />On GitHub, the HTML representation is unable to render, please try loading this page with nbviewer.org.</b></div><div class=\"sk-container\" hidden><div class=\"sk-item sk-dashed-wrapped\"><div class=\"sk-label-container\"><div class=\"sk-label sk-toggleable\"><input class=\"sk-toggleable__control sk-hidden--visually\" id=\"sk-estimator-id-1\" type=\"checkbox\" ><label for=\"sk-estimator-id-1\" class=\"sk-toggleable__label sk-toggleable__label-arrow\">Pipeline</label><div class=\"sk-toggleable__content\"><pre>Pipeline(steps=[(&#x27;preprocess&#x27;,\n",
       "                 ColumnTransformer(transformers=[(&#x27;num&#x27;,\n",
       "                                                  Pipeline(steps=[(&#x27;imputer&#x27;,\n",
       "                                                                   SimpleImputer(strategy=&#x27;median&#x27;)),\n",
       "                                                                  (&#x27;scaler&#x27;,\n",
       "                                                                   StandardScaler())]),\n",
       "                                                  [&#x27;loan_percent_income&#x27;,\n",
       "                                                   &#x27;income&#x27;, &#x27;loan_int_rate&#x27;]),\n",
       "                                                 (&#x27;ord&#x27;,\n",
       "                                                  Pipeline(steps=[(&#x27;ord_enc&#x27;,\n",
       "                                                                   OrdinalEncoder(categories=[[&#x27;OTHER&#x27;,\n",
       "                                                                                               &#x27;RENT&#x27;,\n",
       "                                                                                               &#x27;OWN&#x27;,\n",
       "                                                                                               &#x27;MORTGAGE&#x27;],\n",
       "                                                                                              [&#x27;A&#x27;,\n",
       "                                                                                               &#x27;B&#x27;,\n",
       "                                                                                               &#x27;C&#x27;,\n",
       "                                                                                               &#x27;D&#x27;,\n",
       "                                                                                               &#x27;E&#x27;,\n",
       "                                                                                               &#x27;F&#x27;,\n",
       "                                                                                               &#x27;G&#x27;]]))]),\n",
       "                                                  [&#x27;home_ownership&#x27;,\n",
       "                                                   &#x27;loan_grade&#x27;])])),\n",
       "                (&#x27;over_sampl&#x27;,\n",
       "                 SMOTENC(categorical_features=[3, 4], random_state=0,\n",
       "                         sampling_strategy=0.9)),\n",
       "                (&#x27;model&#x27;, RandomForestClassifier(random_state=0))])</pre></div></div></div><div class=\"sk-serial\"><div class=\"sk-item sk-dashed-wrapped\"><div class=\"sk-label-container\"><div class=\"sk-label sk-toggleable\"><input class=\"sk-toggleable__control sk-hidden--visually\" id=\"sk-estimator-id-2\" type=\"checkbox\" ><label for=\"sk-estimator-id-2\" class=\"sk-toggleable__label sk-toggleable__label-arrow\">preprocess: ColumnTransformer</label><div class=\"sk-toggleable__content\"><pre>ColumnTransformer(transformers=[(&#x27;num&#x27;,\n",
       "                                 Pipeline(steps=[(&#x27;imputer&#x27;,\n",
       "                                                  SimpleImputer(strategy=&#x27;median&#x27;)),\n",
       "                                                 (&#x27;scaler&#x27;, StandardScaler())]),\n",
       "                                 [&#x27;loan_percent_income&#x27;, &#x27;income&#x27;,\n",
       "                                  &#x27;loan_int_rate&#x27;]),\n",
       "                                (&#x27;ord&#x27;,\n",
       "                                 Pipeline(steps=[(&#x27;ord_enc&#x27;,\n",
       "                                                  OrdinalEncoder(categories=[[&#x27;OTHER&#x27;,\n",
       "                                                                              &#x27;RENT&#x27;,\n",
       "                                                                              &#x27;OWN&#x27;,\n",
       "                                                                              &#x27;MORTGAGE&#x27;],\n",
       "                                                                             [&#x27;A&#x27;,\n",
       "                                                                              &#x27;B&#x27;,\n",
       "                                                                              &#x27;C&#x27;,\n",
       "                                                                              &#x27;D&#x27;,\n",
       "                                                                              &#x27;E&#x27;,\n",
       "                                                                              &#x27;F&#x27;,\n",
       "                                                                              &#x27;G&#x27;]]))]),\n",
       "                                 [&#x27;home_ownership&#x27;, &#x27;loan_grade&#x27;])])</pre></div></div></div><div class=\"sk-parallel\"><div class=\"sk-parallel-item\"><div class=\"sk-item\"><div class=\"sk-label-container\"><div class=\"sk-label sk-toggleable\"><input class=\"sk-toggleable__control sk-hidden--visually\" id=\"sk-estimator-id-3\" type=\"checkbox\" ><label for=\"sk-estimator-id-3\" class=\"sk-toggleable__label sk-toggleable__label-arrow\">num</label><div class=\"sk-toggleable__content\"><pre>[&#x27;loan_percent_income&#x27;, &#x27;income&#x27;, &#x27;loan_int_rate&#x27;]</pre></div></div></div><div class=\"sk-serial\"><div class=\"sk-item\"><div class=\"sk-serial\"><div class=\"sk-item\"><div class=\"sk-estimator sk-toggleable\"><input class=\"sk-toggleable__control sk-hidden--visually\" id=\"sk-estimator-id-4\" type=\"checkbox\" ><label for=\"sk-estimator-id-4\" class=\"sk-toggleable__label sk-toggleable__label-arrow\">SimpleImputer</label><div class=\"sk-toggleable__content\"><pre>SimpleImputer(strategy=&#x27;median&#x27;)</pre></div></div></div><div class=\"sk-item\"><div class=\"sk-estimator sk-toggleable\"><input class=\"sk-toggleable__control sk-hidden--visually\" id=\"sk-estimator-id-5\" type=\"checkbox\" ><label for=\"sk-estimator-id-5\" class=\"sk-toggleable__label sk-toggleable__label-arrow\">StandardScaler</label><div class=\"sk-toggleable__content\"><pre>StandardScaler()</pre></div></div></div></div></div></div></div></div><div class=\"sk-parallel-item\"><div class=\"sk-item\"><div class=\"sk-label-container\"><div class=\"sk-label sk-toggleable\"><input class=\"sk-toggleable__control sk-hidden--visually\" id=\"sk-estimator-id-6\" type=\"checkbox\" ><label for=\"sk-estimator-id-6\" class=\"sk-toggleable__label sk-toggleable__label-arrow\">ord</label><div class=\"sk-toggleable__content\"><pre>[&#x27;home_ownership&#x27;, &#x27;loan_grade&#x27;]</pre></div></div></div><div class=\"sk-serial\"><div class=\"sk-item\"><div class=\"sk-serial\"><div class=\"sk-item\"><div class=\"sk-estimator sk-toggleable\"><input class=\"sk-toggleable__control sk-hidden--visually\" id=\"sk-estimator-id-7\" type=\"checkbox\" ><label for=\"sk-estimator-id-7\" class=\"sk-toggleable__label sk-toggleable__label-arrow\">OrdinalEncoder</label><div class=\"sk-toggleable__content\"><pre>OrdinalEncoder(categories=[[&#x27;OTHER&#x27;, &#x27;RENT&#x27;, &#x27;OWN&#x27;, &#x27;MORTGAGE&#x27;],\n",
       "                           [&#x27;A&#x27;, &#x27;B&#x27;, &#x27;C&#x27;, &#x27;D&#x27;, &#x27;E&#x27;, &#x27;F&#x27;, &#x27;G&#x27;]])</pre></div></div></div></div></div></div></div></div></div></div><div class=\"sk-item\"><div class=\"sk-estimator sk-toggleable\"><input class=\"sk-toggleable__control sk-hidden--visually\" id=\"sk-estimator-id-8\" type=\"checkbox\" ><label for=\"sk-estimator-id-8\" class=\"sk-toggleable__label sk-toggleable__label-arrow\">SMOTENC</label><div class=\"sk-toggleable__content\"><pre>SMOTENC(categorical_features=[3, 4], random_state=0, sampling_strategy=0.9)</pre></div></div></div><div class=\"sk-item\"><div class=\"sk-estimator sk-toggleable\"><input class=\"sk-toggleable__control sk-hidden--visually\" id=\"sk-estimator-id-9\" type=\"checkbox\" ><label for=\"sk-estimator-id-9\" class=\"sk-toggleable__label sk-toggleable__label-arrow\">RandomForestClassifier</label><div class=\"sk-toggleable__content\"><pre>RandomForestClassifier(random_state=0)</pre></div></div></div></div></div></div></div>"
      ],
      "text/plain": [
       "Pipeline(steps=[('preprocess',\n",
       "                 ColumnTransformer(transformers=[('num',\n",
       "                                                  Pipeline(steps=[('imputer',\n",
       "                                                                   SimpleImputer(strategy='median')),\n",
       "                                                                  ('scaler',\n",
       "                                                                   StandardScaler())]),\n",
       "                                                  ['loan_percent_income',\n",
       "                                                   'income', 'loan_int_rate']),\n",
       "                                                 ('ord',\n",
       "                                                  Pipeline(steps=[('ord_enc',\n",
       "                                                                   OrdinalEncoder(categories=[['OTHER',\n",
       "                                                                                               'RENT',\n",
       "                                                                                               'OWN',\n",
       "                                                                                               'MORTGAGE'],\n",
       "                                                                                              ['A',\n",
       "                                                                                               'B',\n",
       "                                                                                               'C',\n",
       "                                                                                               'D',\n",
       "                                                                                               'E',\n",
       "                                                                                               'F',\n",
       "                                                                                               'G']]))]),\n",
       "                                                  ['home_ownership',\n",
       "                                                   'loan_grade'])])),\n",
       "                ('over_sampl',\n",
       "                 SMOTENC(categorical_features=[3, 4], random_state=0,\n",
       "                         sampling_strategy=0.9)),\n",
       "                ('model', RandomForestClassifier(random_state=0))])"
      ]
     },
     "execution_count": 6,
     "metadata": {},
     "output_type": "execute_result"
    }
   ],
   "source": [
    "full_imbhandling"
   ]
  },
  {
   "cell_type": "markdown",
   "metadata": {},
   "source": [
    "# **Hyper-Param Tuning**"
   ]
  },
  {
   "cell_type": "code",
   "execution_count": 7,
   "metadata": {},
   "outputs": [
    {
     "data": {
      "text/html": [
       "<style>#sk-container-id-2 {color: black;}#sk-container-id-2 pre{padding: 0;}#sk-container-id-2 div.sk-toggleable {background-color: white;}#sk-container-id-2 label.sk-toggleable__label {cursor: pointer;display: block;width: 100%;margin-bottom: 0;padding: 0.3em;box-sizing: border-box;text-align: center;}#sk-container-id-2 label.sk-toggleable__label-arrow:before {content: \"▸\";float: left;margin-right: 0.25em;color: #696969;}#sk-container-id-2 label.sk-toggleable__label-arrow:hover:before {color: black;}#sk-container-id-2 div.sk-estimator:hover label.sk-toggleable__label-arrow:before {color: black;}#sk-container-id-2 div.sk-toggleable__content {max-height: 0;max-width: 0;overflow: hidden;text-align: left;background-color: #f0f8ff;}#sk-container-id-2 div.sk-toggleable__content pre {margin: 0.2em;color: black;border-radius: 0.25em;background-color: #f0f8ff;}#sk-container-id-2 input.sk-toggleable__control:checked~div.sk-toggleable__content {max-height: 200px;max-width: 100%;overflow: auto;}#sk-container-id-2 input.sk-toggleable__control:checked~label.sk-toggleable__label-arrow:before {content: \"▾\";}#sk-container-id-2 div.sk-estimator input.sk-toggleable__control:checked~label.sk-toggleable__label {background-color: #d4ebff;}#sk-container-id-2 div.sk-label input.sk-toggleable__control:checked~label.sk-toggleable__label {background-color: #d4ebff;}#sk-container-id-2 input.sk-hidden--visually {border: 0;clip: rect(1px 1px 1px 1px);clip: rect(1px, 1px, 1px, 1px);height: 1px;margin: -1px;overflow: hidden;padding: 0;position: absolute;width: 1px;}#sk-container-id-2 div.sk-estimator {font-family: monospace;background-color: #f0f8ff;border: 1px dotted black;border-radius: 0.25em;box-sizing: border-box;margin-bottom: 0.5em;}#sk-container-id-2 div.sk-estimator:hover {background-color: #d4ebff;}#sk-container-id-2 div.sk-parallel-item::after {content: \"\";width: 100%;border-bottom: 1px solid gray;flex-grow: 1;}#sk-container-id-2 div.sk-label:hover label.sk-toggleable__label {background-color: #d4ebff;}#sk-container-id-2 div.sk-serial::before {content: \"\";position: absolute;border-left: 1px solid gray;box-sizing: border-box;top: 0;bottom: 0;left: 50%;z-index: 0;}#sk-container-id-2 div.sk-serial {display: flex;flex-direction: column;align-items: center;background-color: white;padding-right: 0.2em;padding-left: 0.2em;position: relative;}#sk-container-id-2 div.sk-item {position: relative;z-index: 1;}#sk-container-id-2 div.sk-parallel {display: flex;align-items: stretch;justify-content: center;background-color: white;position: relative;}#sk-container-id-2 div.sk-item::before, #sk-container-id-2 div.sk-parallel-item::before {content: \"\";position: absolute;border-left: 1px solid gray;box-sizing: border-box;top: 0;bottom: 0;left: 50%;z-index: -1;}#sk-container-id-2 div.sk-parallel-item {display: flex;flex-direction: column;z-index: 1;position: relative;background-color: white;}#sk-container-id-2 div.sk-parallel-item:first-child::after {align-self: flex-end;width: 50%;}#sk-container-id-2 div.sk-parallel-item:last-child::after {align-self: flex-start;width: 50%;}#sk-container-id-2 div.sk-parallel-item:only-child::after {width: 0;}#sk-container-id-2 div.sk-dashed-wrapped {border: 1px dashed gray;margin: 0 0.4em 0.5em 0.4em;box-sizing: border-box;padding-bottom: 0.4em;background-color: white;}#sk-container-id-2 div.sk-label label {font-family: monospace;font-weight: bold;display: inline-block;line-height: 1.2em;}#sk-container-id-2 div.sk-label-container {text-align: center;}#sk-container-id-2 div.sk-container {/* jupyter's `normalize.less` sets `[hidden] { display: none; }` but bootstrap.min.css set `[hidden] { display: none !important; }` so we also need the `!important` here to be able to override the default hidden behavior on the sphinx rendered scikit-learn.org. See: https://github.com/scikit-learn/scikit-learn/issues/21755 */display: inline-block !important;position: relative;}#sk-container-id-2 div.sk-text-repr-fallback {display: none;}</style><div id=\"sk-container-id-2\" class=\"sk-top-container\"><div class=\"sk-text-repr-fallback\"><pre>GridSearchCV(cv=5,\n",
       "             estimator=Pipeline(steps=[(&#x27;preprocess&#x27;,\n",
       "                                        ColumnTransformer(transformers=[(&#x27;num&#x27;,\n",
       "                                                                         Pipeline(steps=[(&#x27;imputer&#x27;,\n",
       "                                                                                          SimpleImputer(strategy=&#x27;median&#x27;)),\n",
       "                                                                                         (&#x27;scaler&#x27;,\n",
       "                                                                                          StandardScaler())]),\n",
       "                                                                         [&#x27;loan_percent_income&#x27;,\n",
       "                                                                          &#x27;income&#x27;,\n",
       "                                                                          &#x27;loan_int_rate&#x27;]),\n",
       "                                                                        (&#x27;ord&#x27;,\n",
       "                                                                         Pipeline(steps=[(&#x27;ord_enc&#x27;,\n",
       "                                                                                          OrdinalEncoder(categories=[[&#x27;OTHER&#x27;,\n",
       "                                                                                                                      &#x27;RENT&#x27;,\n",
       "                                                                                                                      &#x27;OWN&#x27;,\n",
       "                                                                                                                      &#x27;MORTGAGE&#x27;],\n",
       "                                                                                                                     [&#x27;A&#x27;,\n",
       "                                                                                                                      &#x27;B&#x27;,\n",
       "                                                                                                                      &#x27;C&#x27;,\n",
       "                                                                                                                      &#x27;D&#x27;,\n",
       "                                                                                                                      &#x27;E&#x27;,\n",
       "                                                                                                                      &#x27;F&#x27;,\n",
       "                                                                                                                      &#x27;G&#x27;]]))]),\n",
       "                                                                         [&#x27;home_ownership&#x27;,\n",
       "                                                                          &#x27;loan_grade&#x27;])])),\n",
       "                                       (&#x27;over_sampl&#x27;,\n",
       "                                        SMOTENC(categorical_features=[3, 4],\n",
       "                                                random_state=0,\n",
       "                                                sampling_strategy=0.9)),\n",
       "                                       (&#x27;model&#x27;,\n",
       "                                        RandomForestClassifier(random_state=0))]),\n",
       "             param_grid=[{&#x27;model__max_depth&#x27;: [10, None],\n",
       "                          &#x27;model__max_features&#x27;: [2, 5],\n",
       "                          &#x27;model__n_estimators&#x27;: [70]}],\n",
       "             return_train_score=True, scoring=&#x27;f1&#x27;)</pre><b>In a Jupyter environment, please rerun this cell to show the HTML representation or trust the notebook. <br />On GitHub, the HTML representation is unable to render, please try loading this page with nbviewer.org.</b></div><div class=\"sk-container\" hidden><div class=\"sk-item sk-dashed-wrapped\"><div class=\"sk-label-container\"><div class=\"sk-label sk-toggleable\"><input class=\"sk-toggleable__control sk-hidden--visually\" id=\"sk-estimator-id-10\" type=\"checkbox\" ><label for=\"sk-estimator-id-10\" class=\"sk-toggleable__label sk-toggleable__label-arrow\">GridSearchCV</label><div class=\"sk-toggleable__content\"><pre>GridSearchCV(cv=5,\n",
       "             estimator=Pipeline(steps=[(&#x27;preprocess&#x27;,\n",
       "                                        ColumnTransformer(transformers=[(&#x27;num&#x27;,\n",
       "                                                                         Pipeline(steps=[(&#x27;imputer&#x27;,\n",
       "                                                                                          SimpleImputer(strategy=&#x27;median&#x27;)),\n",
       "                                                                                         (&#x27;scaler&#x27;,\n",
       "                                                                                          StandardScaler())]),\n",
       "                                                                         [&#x27;loan_percent_income&#x27;,\n",
       "                                                                          &#x27;income&#x27;,\n",
       "                                                                          &#x27;loan_int_rate&#x27;]),\n",
       "                                                                        (&#x27;ord&#x27;,\n",
       "                                                                         Pipeline(steps=[(&#x27;ord_enc&#x27;,\n",
       "                                                                                          OrdinalEncoder(categories=[[&#x27;OTHER&#x27;,\n",
       "                                                                                                                      &#x27;RENT&#x27;,\n",
       "                                                                                                                      &#x27;OWN&#x27;,\n",
       "                                                                                                                      &#x27;MORTGAGE&#x27;],\n",
       "                                                                                                                     [&#x27;A&#x27;,\n",
       "                                                                                                                      &#x27;B&#x27;,\n",
       "                                                                                                                      &#x27;C&#x27;,\n",
       "                                                                                                                      &#x27;D&#x27;,\n",
       "                                                                                                                      &#x27;E&#x27;,\n",
       "                                                                                                                      &#x27;F&#x27;,\n",
       "                                                                                                                      &#x27;G&#x27;]]))]),\n",
       "                                                                         [&#x27;home_ownership&#x27;,\n",
       "                                                                          &#x27;loan_grade&#x27;])])),\n",
       "                                       (&#x27;over_sampl&#x27;,\n",
       "                                        SMOTENC(categorical_features=[3, 4],\n",
       "                                                random_state=0,\n",
       "                                                sampling_strategy=0.9)),\n",
       "                                       (&#x27;model&#x27;,\n",
       "                                        RandomForestClassifier(random_state=0))]),\n",
       "             param_grid=[{&#x27;model__max_depth&#x27;: [10, None],\n",
       "                          &#x27;model__max_features&#x27;: [2, 5],\n",
       "                          &#x27;model__n_estimators&#x27;: [70]}],\n",
       "             return_train_score=True, scoring=&#x27;f1&#x27;)</pre></div></div></div><div class=\"sk-parallel\"><div class=\"sk-parallel-item\"><div class=\"sk-item\"><div class=\"sk-label-container\"><div class=\"sk-label sk-toggleable\"><input class=\"sk-toggleable__control sk-hidden--visually\" id=\"sk-estimator-id-11\" type=\"checkbox\" ><label for=\"sk-estimator-id-11\" class=\"sk-toggleable__label sk-toggleable__label-arrow\">estimator: Pipeline</label><div class=\"sk-toggleable__content\"><pre>Pipeline(steps=[(&#x27;preprocess&#x27;,\n",
       "                 ColumnTransformer(transformers=[(&#x27;num&#x27;,\n",
       "                                                  Pipeline(steps=[(&#x27;imputer&#x27;,\n",
       "                                                                   SimpleImputer(strategy=&#x27;median&#x27;)),\n",
       "                                                                  (&#x27;scaler&#x27;,\n",
       "                                                                   StandardScaler())]),\n",
       "                                                  [&#x27;loan_percent_income&#x27;,\n",
       "                                                   &#x27;income&#x27;, &#x27;loan_int_rate&#x27;]),\n",
       "                                                 (&#x27;ord&#x27;,\n",
       "                                                  Pipeline(steps=[(&#x27;ord_enc&#x27;,\n",
       "                                                                   OrdinalEncoder(categories=[[&#x27;OTHER&#x27;,\n",
       "                                                                                               &#x27;RENT&#x27;,\n",
       "                                                                                               &#x27;OWN&#x27;,\n",
       "                                                                                               &#x27;MORTGAGE&#x27;],\n",
       "                                                                                              [&#x27;A&#x27;,\n",
       "                                                                                               &#x27;B&#x27;,\n",
       "                                                                                               &#x27;C&#x27;,\n",
       "                                                                                               &#x27;D&#x27;,\n",
       "                                                                                               &#x27;E&#x27;,\n",
       "                                                                                               &#x27;F&#x27;,\n",
       "                                                                                               &#x27;G&#x27;]]))]),\n",
       "                                                  [&#x27;home_ownership&#x27;,\n",
       "                                                   &#x27;loan_grade&#x27;])])),\n",
       "                (&#x27;over_sampl&#x27;,\n",
       "                 SMOTENC(categorical_features=[3, 4], random_state=0,\n",
       "                         sampling_strategy=0.9)),\n",
       "                (&#x27;model&#x27;, RandomForestClassifier(random_state=0))])</pre></div></div></div><div class=\"sk-serial\"><div class=\"sk-item\"><div class=\"sk-serial\"><div class=\"sk-item sk-dashed-wrapped\"><div class=\"sk-label-container\"><div class=\"sk-label sk-toggleable\"><input class=\"sk-toggleable__control sk-hidden--visually\" id=\"sk-estimator-id-12\" type=\"checkbox\" ><label for=\"sk-estimator-id-12\" class=\"sk-toggleable__label sk-toggleable__label-arrow\">preprocess: ColumnTransformer</label><div class=\"sk-toggleable__content\"><pre>ColumnTransformer(transformers=[(&#x27;num&#x27;,\n",
       "                                 Pipeline(steps=[(&#x27;imputer&#x27;,\n",
       "                                                  SimpleImputer(strategy=&#x27;median&#x27;)),\n",
       "                                                 (&#x27;scaler&#x27;, StandardScaler())]),\n",
       "                                 [&#x27;loan_percent_income&#x27;, &#x27;income&#x27;,\n",
       "                                  &#x27;loan_int_rate&#x27;]),\n",
       "                                (&#x27;ord&#x27;,\n",
       "                                 Pipeline(steps=[(&#x27;ord_enc&#x27;,\n",
       "                                                  OrdinalEncoder(categories=[[&#x27;OTHER&#x27;,\n",
       "                                                                              &#x27;RENT&#x27;,\n",
       "                                                                              &#x27;OWN&#x27;,\n",
       "                                                                              &#x27;MORTGAGE&#x27;],\n",
       "                                                                             [&#x27;A&#x27;,\n",
       "                                                                              &#x27;B&#x27;,\n",
       "                                                                              &#x27;C&#x27;,\n",
       "                                                                              &#x27;D&#x27;,\n",
       "                                                                              &#x27;E&#x27;,\n",
       "                                                                              &#x27;F&#x27;,\n",
       "                                                                              &#x27;G&#x27;]]))]),\n",
       "                                 [&#x27;home_ownership&#x27;, &#x27;loan_grade&#x27;])])</pre></div></div></div><div class=\"sk-parallel\"><div class=\"sk-parallel-item\"><div class=\"sk-item\"><div class=\"sk-label-container\"><div class=\"sk-label sk-toggleable\"><input class=\"sk-toggleable__control sk-hidden--visually\" id=\"sk-estimator-id-13\" type=\"checkbox\" ><label for=\"sk-estimator-id-13\" class=\"sk-toggleable__label sk-toggleable__label-arrow\">num</label><div class=\"sk-toggleable__content\"><pre>[&#x27;loan_percent_income&#x27;, &#x27;income&#x27;, &#x27;loan_int_rate&#x27;]</pre></div></div></div><div class=\"sk-serial\"><div class=\"sk-item\"><div class=\"sk-serial\"><div class=\"sk-item\"><div class=\"sk-estimator sk-toggleable\"><input class=\"sk-toggleable__control sk-hidden--visually\" id=\"sk-estimator-id-14\" type=\"checkbox\" ><label for=\"sk-estimator-id-14\" class=\"sk-toggleable__label sk-toggleable__label-arrow\">SimpleImputer</label><div class=\"sk-toggleable__content\"><pre>SimpleImputer(strategy=&#x27;median&#x27;)</pre></div></div></div><div class=\"sk-item\"><div class=\"sk-estimator sk-toggleable\"><input class=\"sk-toggleable__control sk-hidden--visually\" id=\"sk-estimator-id-15\" type=\"checkbox\" ><label for=\"sk-estimator-id-15\" class=\"sk-toggleable__label sk-toggleable__label-arrow\">StandardScaler</label><div class=\"sk-toggleable__content\"><pre>StandardScaler()</pre></div></div></div></div></div></div></div></div><div class=\"sk-parallel-item\"><div class=\"sk-item\"><div class=\"sk-label-container\"><div class=\"sk-label sk-toggleable\"><input class=\"sk-toggleable__control sk-hidden--visually\" id=\"sk-estimator-id-16\" type=\"checkbox\" ><label for=\"sk-estimator-id-16\" class=\"sk-toggleable__label sk-toggleable__label-arrow\">ord</label><div class=\"sk-toggleable__content\"><pre>[&#x27;home_ownership&#x27;, &#x27;loan_grade&#x27;]</pre></div></div></div><div class=\"sk-serial\"><div class=\"sk-item\"><div class=\"sk-serial\"><div class=\"sk-item\"><div class=\"sk-estimator sk-toggleable\"><input class=\"sk-toggleable__control sk-hidden--visually\" id=\"sk-estimator-id-17\" type=\"checkbox\" ><label for=\"sk-estimator-id-17\" class=\"sk-toggleable__label sk-toggleable__label-arrow\">OrdinalEncoder</label><div class=\"sk-toggleable__content\"><pre>OrdinalEncoder(categories=[[&#x27;OTHER&#x27;, &#x27;RENT&#x27;, &#x27;OWN&#x27;, &#x27;MORTGAGE&#x27;],\n",
       "                           [&#x27;A&#x27;, &#x27;B&#x27;, &#x27;C&#x27;, &#x27;D&#x27;, &#x27;E&#x27;, &#x27;F&#x27;, &#x27;G&#x27;]])</pre></div></div></div></div></div></div></div></div></div></div><div class=\"sk-item\"><div class=\"sk-estimator sk-toggleable\"><input class=\"sk-toggleable__control sk-hidden--visually\" id=\"sk-estimator-id-18\" type=\"checkbox\" ><label for=\"sk-estimator-id-18\" class=\"sk-toggleable__label sk-toggleable__label-arrow\">SMOTENC</label><div class=\"sk-toggleable__content\"><pre>SMOTENC(categorical_features=[3, 4], random_state=0, sampling_strategy=0.9)</pre></div></div></div><div class=\"sk-item\"><div class=\"sk-estimator sk-toggleable\"><input class=\"sk-toggleable__control sk-hidden--visually\" id=\"sk-estimator-id-19\" type=\"checkbox\" ><label for=\"sk-estimator-id-19\" class=\"sk-toggleable__label sk-toggleable__label-arrow\">RandomForestClassifier</label><div class=\"sk-toggleable__content\"><pre>RandomForestClassifier(random_state=0)</pre></div></div></div></div></div></div></div></div></div></div></div></div>"
      ],
      "text/plain": [
       "GridSearchCV(cv=5,\n",
       "             estimator=Pipeline(steps=[('preprocess',\n",
       "                                        ColumnTransformer(transformers=[('num',\n",
       "                                                                         Pipeline(steps=[('imputer',\n",
       "                                                                                          SimpleImputer(strategy='median')),\n",
       "                                                                                         ('scaler',\n",
       "                                                                                          StandardScaler())]),\n",
       "                                                                         ['loan_percent_income',\n",
       "                                                                          'income',\n",
       "                                                                          'loan_int_rate']),\n",
       "                                                                        ('ord',\n",
       "                                                                         Pipeline(steps=[('ord_enc',\n",
       "                                                                                          OrdinalEncoder(categories=[['OTHER',\n",
       "                                                                                                                      'RENT',\n",
       "                                                                                                                      'OWN',\n",
       "                                                                                                                      'MORTGAGE'],\n",
       "                                                                                                                     ['A',\n",
       "                                                                                                                      'B',\n",
       "                                                                                                                      'C',\n",
       "                                                                                                                      'D',\n",
       "                                                                                                                      'E',\n",
       "                                                                                                                      'F',\n",
       "                                                                                                                      'G']]))]),\n",
       "                                                                         ['home_ownership',\n",
       "                                                                          'loan_grade'])])),\n",
       "                                       ('over_sampl',\n",
       "                                        SMOTENC(categorical_features=[3, 4],\n",
       "                                                random_state=0,\n",
       "                                                sampling_strategy=0.9)),\n",
       "                                       ('model',\n",
       "                                        RandomForestClassifier(random_state=0))]),\n",
       "             param_grid=[{'model__max_depth': [10, None],\n",
       "                          'model__max_features': [2, 5],\n",
       "                          'model__n_estimators': [70]}],\n",
       "             return_train_score=True, scoring='f1')"
      ]
     },
     "execution_count": 7,
     "metadata": {},
     "output_type": "execute_result"
    }
   ],
   "source": [
    "# with imbalance handling\n",
    "params = [\n",
    "    {\"model__n_estimators\": [70],        # 1\n",
    "     \"model__max_features\": [2, 5],            # 2\n",
    "     \"model__max_depth\": [10, None]}              # 2 Total 1*2*2 = 4 combinations\n",
    "  ]\n",
    "\n",
    "rfc = RandomForestClassifier(random_state=0)\n",
    "\n",
    "grid_search = GridSearchCV(full_imbhandling, params, cv=5,\n",
    "                           scoring=\"f1\",\n",
    "                           return_train_score=True)\n",
    "grid_search.fit(X_train, y_train)"
   ]
  },
  {
   "cell_type": "markdown",
   "metadata": {},
   "source": [
    "# **Final Pipeline - Preprocess & Model**"
   ]
  },
  {
   "cell_type": "code",
   "execution_count": 8,
   "metadata": {},
   "outputs": [
    {
     "data": {
      "text/html": [
       "<div>\n",
       "<style scoped>\n",
       "    .dataframe tbody tr th:only-of-type {\n",
       "        vertical-align: middle;\n",
       "    }\n",
       "\n",
       "    .dataframe tbody tr th {\n",
       "        vertical-align: top;\n",
       "    }\n",
       "\n",
       "    .dataframe thead th {\n",
       "        text-align: right;\n",
       "    }\n",
       "</style>\n",
       "<table border=\"1\" class=\"dataframe\">\n",
       "  <thead>\n",
       "    <tr style=\"text-align: right;\">\n",
       "      <th></th>\n",
       "      <th>age</th>\n",
       "      <th>income</th>\n",
       "      <th>home_ownership</th>\n",
       "      <th>person_emp_length</th>\n",
       "      <th>loan_intent</th>\n",
       "      <th>loan_grade</th>\n",
       "      <th>loan_amnt</th>\n",
       "      <th>loan_int_rate</th>\n",
       "      <th>loan_percent_income</th>\n",
       "      <th>hist_default</th>\n",
       "      <th>cred_hist_length</th>\n",
       "    </tr>\n",
       "  </thead>\n",
       "  <tbody>\n",
       "    <tr>\n",
       "      <th>8224</th>\n",
       "      <td>22</td>\n",
       "      <td>56004</td>\n",
       "      <td>MORTGAGE</td>\n",
       "      <td>6.0</td>\n",
       "      <td>MEDICAL</td>\n",
       "      <td>B</td>\n",
       "      <td>6000</td>\n",
       "      <td>11.86</td>\n",
       "      <td>0.11</td>\n",
       "      <td>N</td>\n",
       "      <td>3</td>\n",
       "    </tr>\n",
       "    <tr>\n",
       "      <th>10004</th>\n",
       "      <td>25</td>\n",
       "      <td>82000</td>\n",
       "      <td>RENT</td>\n",
       "      <td>2.0</td>\n",
       "      <td>MEDICAL</td>\n",
       "      <td>A</td>\n",
       "      <td>9200</td>\n",
       "      <td>6.03</td>\n",
       "      <td>0.11</td>\n",
       "      <td>N</td>\n",
       "      <td>3</td>\n",
       "    </tr>\n",
       "    <tr>\n",
       "      <th>21434</th>\n",
       "      <td>29</td>\n",
       "      <td>48000</td>\n",
       "      <td>MORTGAGE</td>\n",
       "      <td>8.0</td>\n",
       "      <td>VENTURE</td>\n",
       "      <td>A</td>\n",
       "      <td>4500</td>\n",
       "      <td>5.42</td>\n",
       "      <td>0.09</td>\n",
       "      <td>N</td>\n",
       "      <td>6</td>\n",
       "    </tr>\n",
       "    <tr>\n",
       "      <th>14135</th>\n",
       "      <td>25</td>\n",
       "      <td>100000</td>\n",
       "      <td>MORTGAGE</td>\n",
       "      <td>9.0</td>\n",
       "      <td>EDUCATION</td>\n",
       "      <td>B</td>\n",
       "      <td>8000</td>\n",
       "      <td>10.25</td>\n",
       "      <td>0.08</td>\n",
       "      <td>N</td>\n",
       "      <td>3</td>\n",
       "    </tr>\n",
       "    <tr>\n",
       "      <th>13979</th>\n",
       "      <td>25</td>\n",
       "      <td>60000</td>\n",
       "      <td>RENT</td>\n",
       "      <td>5.0</td>\n",
       "      <td>HOMEIMPROVEMENT</td>\n",
       "      <td>B</td>\n",
       "      <td>14000</td>\n",
       "      <td>NaN</td>\n",
       "      <td>0.23</td>\n",
       "      <td>N</td>\n",
       "      <td>2</td>\n",
       "    </tr>\n",
       "  </tbody>\n",
       "</table>\n",
       "</div>"
      ],
      "text/plain": [
       "       age  income home_ownership  person_emp_length      loan_intent  \\\n",
       "8224    22   56004       MORTGAGE                6.0          MEDICAL   \n",
       "10004   25   82000           RENT                2.0          MEDICAL   \n",
       "21434   29   48000       MORTGAGE                8.0          VENTURE   \n",
       "14135   25  100000       MORTGAGE                9.0        EDUCATION   \n",
       "13979   25   60000           RENT                5.0  HOMEIMPROVEMENT   \n",
       "\n",
       "      loan_grade  loan_amnt  loan_int_rate  loan_percent_income hist_default  \\\n",
       "8224           B       6000          11.86                 0.11            N   \n",
       "10004          A       9200           6.03                 0.11            N   \n",
       "21434          A       4500           5.42                 0.09            N   \n",
       "14135          B       8000          10.25                 0.08            N   \n",
       "13979          B      14000            NaN                 0.23            N   \n",
       "\n",
       "       cred_hist_length  \n",
       "8224                  3  \n",
       "10004                 3  \n",
       "21434                 6  \n",
       "14135                 3  \n",
       "13979                 2  "
      ]
     },
     "execution_count": 8,
     "metadata": {},
     "output_type": "execute_result"
    }
   ],
   "source": [
    "X_train.head()"
   ]
  },
  {
   "cell_type": "code",
   "execution_count": 9,
   "metadata": {},
   "outputs": [
    {
     "data": {
      "text/html": [
       "<div>\n",
       "<style scoped>\n",
       "    .dataframe tbody tr th:only-of-type {\n",
       "        vertical-align: middle;\n",
       "    }\n",
       "\n",
       "    .dataframe tbody tr th {\n",
       "        vertical-align: top;\n",
       "    }\n",
       "\n",
       "    .dataframe thead th {\n",
       "        text-align: right;\n",
       "    }\n",
       "</style>\n",
       "<table border=\"1\" class=\"dataframe\">\n",
       "  <thead>\n",
       "    <tr style=\"text-align: right;\">\n",
       "      <th></th>\n",
       "      <th>age</th>\n",
       "      <th>income</th>\n",
       "      <th>home_ownership</th>\n",
       "      <th>person_emp_length</th>\n",
       "      <th>loan_intent</th>\n",
       "      <th>loan_grade</th>\n",
       "      <th>loan_amnt</th>\n",
       "      <th>loan_int_rate</th>\n",
       "      <th>loan_percent_income</th>\n",
       "      <th>hist_default</th>\n",
       "      <th>cred_hist_length</th>\n",
       "    </tr>\n",
       "  </thead>\n",
       "  <tbody>\n",
       "    <tr>\n",
       "      <th>13777</th>\n",
       "      <td>26</td>\n",
       "      <td>64900</td>\n",
       "      <td>RENT</td>\n",
       "      <td>4.0</td>\n",
       "      <td>MEDICAL</td>\n",
       "      <td>B</td>\n",
       "      <td>13625</td>\n",
       "      <td>NaN</td>\n",
       "      <td>0.21</td>\n",
       "      <td>N</td>\n",
       "      <td>3</td>\n",
       "    </tr>\n",
       "  </tbody>\n",
       "</table>\n",
       "</div>"
      ],
      "text/plain": [
       "       age  income home_ownership  person_emp_length loan_intent loan_grade  \\\n",
       "13777   26   64900           RENT                4.0     MEDICAL          B   \n",
       "\n",
       "       loan_amnt  loan_int_rate  loan_percent_income hist_default  \\\n",
       "13777      13625            NaN                 0.21            N   \n",
       "\n",
       "       cred_hist_length  \n",
       "13777                 3  "
      ]
     },
     "execution_count": 9,
     "metadata": {},
     "output_type": "execute_result"
    }
   ],
   "source": [
    "X_test.head(1)"
   ]
  },
  {
   "cell_type": "code",
   "execution_count": 10,
   "metadata": {},
   "outputs": [
    {
     "name": "stdout",
     "output_type": "stream",
     "text": [
      "              precision    recall  f1-score   support\n",
      "\n",
      "           0       0.94      0.94      0.94     17729\n",
      "           1       0.78      0.77      0.78      4962\n",
      "\n",
      "    accuracy                           0.90     22691\n",
      "   macro avg       0.86      0.85      0.86     22691\n",
      "weighted avg       0.90      0.90      0.90     22691\n",
      "\n",
      "              precision    recall  f1-score   support\n",
      "\n",
      "           0       0.93      0.93      0.93      7598\n",
      "           1       0.76      0.74      0.75      2127\n",
      "\n",
      "    accuracy                           0.89      9725\n",
      "   macro avg       0.84      0.84      0.84      9725\n",
      "weighted avg       0.89      0.89      0.89      9725\n",
      "\n"
     ]
    }
   ],
   "source": [
    "# with imbalance handling\n",
    "model = grid_search.best_estimator_\n",
    "\n",
    "# model.fit(train, y_train)\n",
    "\n",
    "model_train = model.predict(X_train)\n",
    "model_test = model.predict(X_test)\n",
    "\n",
    "print(classification_report(y_train, model_train))\n",
    "print(classification_report(y_test, model_test))"
   ]
  },
  {
   "cell_type": "code",
   "execution_count": 11,
   "metadata": {},
   "outputs": [
    {
     "data": {
      "text/plain": [
       "array([0, 0, 0, 0, 1], dtype=int64)"
      ]
     },
     "execution_count": 11,
     "metadata": {},
     "output_type": "execute_result"
    }
   ],
   "source": [
    "model.predict(X_test.head(5))"
   ]
  },
  {
   "cell_type": "markdown",
   "metadata": {},
   "source": [
    "# **Save Pipeline**"
   ]
  },
  {
   "cell_type": "code",
   "execution_count": 12,
   "metadata": {},
   "outputs": [
    {
     "data": {
      "text/plain": [
       "<bound method Pipeline.predict of Pipeline(steps=[('preprocess',\n",
       "                 ColumnTransformer(transformers=[('num',\n",
       "                                                  Pipeline(steps=[('imputer',\n",
       "                                                                   SimpleImputer(strategy='median')),\n",
       "                                                                  ('scaler',\n",
       "                                                                   StandardScaler())]),\n",
       "                                                  ['loan_percent_income',\n",
       "                                                   'income', 'loan_int_rate']),\n",
       "                                                 ('ord',\n",
       "                                                  Pipeline(steps=[('ord_enc',\n",
       "                                                                   OrdinalEncoder(categories=[['OTHER',\n",
       "                                                                                               'RENT',\n",
       "                                                                                               'OWN',\n",
       "                                                                                               'MORTGAGE'],\n",
       "                                                                                              ['A',\n",
       "                                                                                               'B',\n",
       "                                                                                               'C',\n",
       "                                                                                               'D',\n",
       "                                                                                               'E',\n",
       "                                                                                               'F',\n",
       "                                                                                               'G']]))]),\n",
       "                                                  ['home_ownership',\n",
       "                                                   'loan_grade'])])),\n",
       "                ('over_sampl',\n",
       "                 SMOTENC(categorical_features=[3, 4], random_state=0,\n",
       "                         sampling_strategy=0.9)),\n",
       "                ('model',\n",
       "                 RandomForestClassifier(max_depth=10, max_features=2,\n",
       "                                        n_estimators=70, random_state=0))])>"
      ]
     },
     "execution_count": 12,
     "metadata": {},
     "output_type": "execute_result"
    }
   ],
   "source": [
    "pickle.dump(model, open(\"backend/model_final.pkl\", \"wb\"))\n",
    "\n",
    "model = pickle.load(open(\"backend/model_final.pkl\", \"rb\"))\n",
    "model.predict"
   ]
  },
  {
   "cell_type": "code",
   "execution_count": 13,
   "metadata": {},
   "outputs": [
    {
     "data": {
      "text/plain": [
       "array([0, 0, 0, 0, 1], dtype=int64)"
      ]
     },
     "execution_count": 13,
     "metadata": {},
     "output_type": "execute_result"
    }
   ],
   "source": [
    "model.predict(X_test.head(5))"
   ]
  },
  {
   "cell_type": "markdown",
   "metadata": {},
   "source": [
    "# **Serving Scenario**"
   ]
  },
  {
   "cell_type": "code",
   "execution_count": 14,
   "metadata": {},
   "outputs": [
    {
     "data": {
      "text/plain": [
       "{'person_age': 22,\n",
       " 'person_income': 59000,\n",
       " 'person_home_ownership': 'RENT',\n",
       " 'person_emp_length': 123.0,\n",
       " 'loan_intent': 'PERSONAL',\n",
       " 'loan_grade': 'D',\n",
       " 'loan_amnt': 35000,\n",
       " 'loan_int_rate': 16.02,\n",
       " 'loan_status': 1,\n",
       " 'loan_percent_income': 0.59,\n",
       " 'cb_person_default_on_file': 'Y',\n",
       " 'cb_person_cred_hist_length': 3}"
      ]
     },
     "execution_count": 14,
     "metadata": {},
     "output_type": "execute_result"
    }
   ],
   "source": [
    "df = pd.read_csv(r\"https://raw.githubusercontent.com/rafifaditio/Data/main/credit_risk_dataset.csv\")\n",
    "real_data = df.loc[0].to_dict()\n",
    "real_data"
   ]
  },
  {
   "cell_type": "code",
   "execution_count": 15,
   "metadata": {},
   "outputs": [
    {
     "name": "stdout",
     "output_type": "stream",
     "text": [
      "{'age': 22, 'income': 59000, 'home_ownership': 'RENT', 'person_emp_length': 123.0, 'loan_intent': 'PERSONAL', 'loan_grade': 'D', 'loan_amnt': 35000, 'loan_int_rate': 16.02, 'loan_default': 1, 'loan_percent_income': 0.59, 'hist_default': 'Y', 'cred_hist_length': 3}\n"
     ]
    }
   ],
   "source": [
    "replacement = {\"person_age\":\"age\", \"person_income\": \"income\",\n",
    "                \"person_home_ownership\":\"home_ownership\",\n",
    "                \"loan_status\":\"loan_default\",\n",
    "                \"cb_person_default_on_file\":\"hist_default\",\n",
    "                \"cb_person_cred_hist_length\":\"cred_hist_length\"}\n",
    "\n",
    "for k, v in list(real_data.items()):\n",
    "    real_data[replacement.get(k, k)] = real_data.pop(k)\n",
    "\n",
    "print(real_data)"
   ]
  },
  {
   "cell_type": "code",
   "execution_count": 16,
   "metadata": {},
   "outputs": [
    {
     "data": {
      "text/plain": [
       "1"
      ]
     },
     "execution_count": 16,
     "metadata": {},
     "output_type": "execute_result"
    }
   ],
   "source": [
    "model.predict(pd.DataFrame(real_data,index=[0]))[0]"
   ]
  },
  {
   "cell_type": "code",
   "execution_count": 17,
   "metadata": {},
   "outputs": [
    {
     "data": {
      "text/plain": [
       "age                         26\n",
       "income                   64900\n",
       "home_ownership            RENT\n",
       "person_emp_length          4.0\n",
       "loan_intent            MEDICAL\n",
       "loan_grade                   B\n",
       "loan_amnt                13625\n",
       "loan_int_rate              NaN\n",
       "loan_percent_income       0.21\n",
       "hist_default                 N\n",
       "cred_hist_length             3\n",
       "Name: 13777, dtype: object"
      ]
     },
     "execution_count": 17,
     "metadata": {},
     "output_type": "execute_result"
    }
   ],
   "source": [
    "# test 2\n",
    "X_test.iloc[0,:]"
   ]
  },
  {
   "cell_type": "code",
   "execution_count": 18,
   "metadata": {},
   "outputs": [
    {
     "name": "stdout",
     "output_type": "stream",
     "text": [
      "['RENT' 'OWN' 'MORTGAGE' 'OTHER']\n",
      "['PERSONAL' 'EDUCATION' 'MEDICAL' 'VENTURE' 'HOMEIMPROVEMENT'\n",
      " 'DEBTCONSOLIDATION']\n",
      "['D' 'B' 'C' 'A' 'E' 'F' 'G']\n",
      "['Y' 'N']\n"
     ]
    }
   ],
   "source": [
    "for i in [\"person_home_ownership\",'loan_intent','loan_grade','cb_person_default_on_file']:\n",
    "    print(df[i].unique())"
   ]
  },
  {
   "cell_type": "code",
   "execution_count": 19,
   "metadata": {},
   "outputs": [
    {
     "name": "stdout",
     "output_type": "stream",
     "text": [
      "{'age': 26, 'income': 64900, 'home_ownership': 'RENT', 'person_emp_length': 4.0, 'loan_intent': 'MEDICAL', 'loan_grade': 'B', 'loan_amnt': 13625, 'loan_int_rate': nan, 'loan_percent_income': 0.21, 'hist_default': 'N', 'cred_hist_length': 3}\n",
      "0\n"
     ]
    }
   ],
   "source": [
    "real_data = {\"person_age\": 26,\n",
    "\"person_income\": 64900,\n",
    "\"person_home_ownership\": \"RENT\",\n",
    "\"person_emp_length\": 4.0,\n",
    "\"loan_intent\": \"MEDICAL\",\n",
    "\"loan_grade\": \"B\",\n",
    "\"loan_amnt\": 13625,\n",
    "\"loan_int_rate\": np.NaN,\n",
    "\"loan_percent_income\": 0.21,\n",
    "\"cb_person_default_on_file\": \"N\",\n",
    "\"cb_person_cred_hist_length\": 3}\n",
    "\n",
    "replacement = {\"person_age\":\"age\", \"person_income\": \"income\",\n",
    "                \"person_home_ownership\":\"home_ownership\",\n",
    "                \"loan_status\":\"loan_default\",\n",
    "                \"cb_person_default_on_file\":\"hist_default\",\n",
    "                \"cb_person_cred_hist_length\":\"cred_hist_length\"}\n",
    "\n",
    "for k, v in list(real_data.items()):\n",
    "    real_data[replacement.get(k, k)] = real_data.pop(k)\n",
    "\n",
    "print(real_data)\n",
    "print(model.predict(pd.DataFrame(real_data,index=[0]))[0])"
   ]
  },
  {
   "cell_type": "code",
   "execution_count": 20,
   "metadata": {},
   "outputs": [
    {
     "name": "stdout",
     "output_type": "stream",
     "text": [
      "1.3.2\n",
      "0.12.0\n",
      "1.2.0\n",
      "0.30.1\n",
      "0.111.0\n",
      "1.5.0\n",
      "1.10.0\n",
      "1.22.4\n",
      "4.1.0\n"
     ]
    }
   ],
   "source": [
    "import sklearn\n",
    "import imblearn\n",
    "import feature_engine\n",
    "import uvicorn\n",
    "import fastapi\n",
    "import pandas\n",
    "import streamlit\n",
    "import numpy\n",
    "import altair\n",
    "\n",
    "for i in [sklearn,imblearn,feature_engine,uvicorn,fastapi,pandas,streamlit,numpy,altair]:\n",
    "    print(i.__version__)"
   ]
  },
  {
   "cell_type": "code",
   "execution_count": null,
   "metadata": {},
   "outputs": [],
   "source": []
  }
 ],
 "metadata": {
  "kernelspec": {
   "display_name": "base",
   "language": "python",
   "name": "python3"
  },
  "language_info": {
   "codemirror_mode": {
    "name": "ipython",
    "version": 3
   },
   "file_extension": ".py",
   "mimetype": "text/x-python",
   "name": "python",
   "nbconvert_exporter": "python",
   "pygments_lexer": "ipython3",
   "version": "3.8.5"
  }
 },
 "nbformat": 4,
 "nbformat_minor": 2
}
